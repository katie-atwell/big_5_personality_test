{
 "cells": [
  {
   "cell_type": "markdown",
   "metadata": {},
   "source": [
    "# Confirmatory Factor Analysis"
   ]
  },
  {
   "cell_type": "markdown",
   "metadata": {},
   "source": [
    "[Confirmatory Factor Analysis (CFA)](https://en.wikipedia.org/wiki/Confirmatory_factor_analysis) is a type of [Factor Analysis](https://en.wikipedia.org/wiki/Factor_analysis). Factor analysis can be used to establish whether the variability in observed variables (e.g. responses to personality questionnaire items) can be explained by a lower number of underlying factors (e.g. personality traits). CFA in particular can be used to confirm whether a priori specified factors are consistent with observed variables. For this dataset, CFA can be used to determine whether the five personality traits are associated with the questionnaire items that were designed to measure each trait in question. "
   ]
  },
  {
   "cell_type": "code",
   "execution_count": 1,
   "metadata": {},
   "outputs": [],
   "source": [
    "import pandas as pd\n",
    "from factor_analyzer import ConfirmatoryFactorAnalyzer, ModelSpecificationParser"
   ]
  },
  {
   "cell_type": "code",
   "execution_count": 2,
   "metadata": {},
   "outputs": [],
   "source": [
    "extraversion_items = [\"EXT\" + str(i) for i in range(1,11)]\n",
    "neuroticism_items = [\"EST\" + str(i) for i in range(1,11)]\n",
    "agreeableness_items = [\"AGR\" + str(i) for i in range(1,11)]\n",
    "conscientiousness_items = [\"CSN\" + str(i) for i in range(1,11)]\n",
    "openness_items = [\"OPN\" + str(i) for i in range(1,11)]\n",
    "\n",
    "all_items = extraversion_items + neuroticism_items + agreeableness_items + conscientiousness_items + openness_items"
   ]
  },
  {
   "cell_type": "code",
   "execution_count": 3,
   "metadata": {},
   "outputs": [],
   "source": [
    "df = pd.read_csv('./data/cleaned_data.csv')"
   ]
  },
  {
   "cell_type": "code",
   "execution_count": 4,
   "metadata": {},
   "outputs": [
    {
     "data": {
      "text/plain": [
       "Unnamed: 0                  0\n",
       "EXT1                     1141\n",
       "EXT2                     4926\n",
       "EXT3                     1141\n",
       "EXT4                     5445\n",
       "                         ... \n",
       "endelapse                   0\n",
       "IPC                         0\n",
       "country                    67\n",
       "lat_appx_lots_of_err        0\n",
       "long_appx_lots_of_err       0\n",
       "Length: 111, dtype: int64"
      ]
     },
     "execution_count": 4,
     "metadata": {},
     "output_type": "execute_result"
    }
   ],
   "source": [
    "df.isnull().sum()"
   ]
  },
  {
   "cell_type": "code",
   "execution_count": 5,
   "metadata": {},
   "outputs": [],
   "source": [
    "subset_df = df.copy()\n",
    "subset_df = subset_df[all_items]\n",
    "subset_df.dropna(inplace=True)"
   ]
  },
  {
   "cell_type": "code",
   "execution_count": 6,
   "metadata": {
    "scrolled": true
   },
   "outputs": [
    {
     "data": {
      "text/plain": [
       "{'extraversion': ['EXT1',\n",
       "  'EXT2',\n",
       "  'EXT3',\n",
       "  'EXT4',\n",
       "  'EXT5',\n",
       "  'EXT6',\n",
       "  'EXT7',\n",
       "  'EXT8',\n",
       "  'EXT9',\n",
       "  'EXT10'],\n",
       " 'neuroticism': ['EST1',\n",
       "  'EST2',\n",
       "  'EST3',\n",
       "  'EST4',\n",
       "  'EST5',\n",
       "  'EST6',\n",
       "  'EST7',\n",
       "  'EST8',\n",
       "  'EST9',\n",
       "  'EST10'],\n",
       " 'agreeableness': ['AGR1',\n",
       "  'AGR2',\n",
       "  'AGR3',\n",
       "  'AGR4',\n",
       "  'AGR5',\n",
       "  'AGR6',\n",
       "  'AGR7',\n",
       "  'AGR8',\n",
       "  'AGR9',\n",
       "  'AGR10'],\n",
       " 'conscientiousness': ['CSN1',\n",
       "  'CSN2',\n",
       "  'CSN3',\n",
       "  'CSN4',\n",
       "  'CSN5',\n",
       "  'CSN6',\n",
       "  'CSN7',\n",
       "  'CSN8',\n",
       "  'CSN9',\n",
       "  'CSN10'],\n",
       " 'openness': ['OPN1',\n",
       "  'OPN2',\n",
       "  'OPN3',\n",
       "  'OPN4',\n",
       "  'OPN5',\n",
       "  'OPN6',\n",
       "  'OPN7',\n",
       "  'OPN8',\n",
       "  'OPN9',\n",
       "  'OPN10']}"
      ]
     },
     "execution_count": 6,
     "metadata": {},
     "output_type": "execute_result"
    }
   ],
   "source": [
    "model_dict = {\n",
    "    \"extraversion\": extraversion_items,\n",
    "    \"neuroticism\": neuroticism_items,\n",
    "    \"agreeableness\": agreeableness_items,\n",
    "    \"conscientiousness\": conscientiousness_items,\n",
    "    \"openness\": openness_items\n",
    "}\n",
    "model_dict"
   ]
  },
  {
   "cell_type": "code",
   "execution_count": 7,
   "metadata": {},
   "outputs": [],
   "source": [
    "model_spec = ModelSpecificationParser.parse_model_specification_from_dict(subset_df, model_dict)"
   ]
  },
  {
   "cell_type": "code",
   "execution_count": 8,
   "metadata": {},
   "outputs": [
    {
     "data": {
      "text/plain": [
       "ConfirmatoryFactorAnalyzer(bounds=None, disp=True, impute='median',\n",
       "                           is_cov_matrix=False, max_iter=200, n_obs=653737,\n",
       "                           specification=<factor_analyzer.confirmatory_factor_analyzer.ModelSpecification object at 0x1172fc760>,\n",
       "                           tol=None)"
      ]
     },
     "execution_count": 8,
     "metadata": {},
     "output_type": "execute_result"
    }
   ],
   "source": [
    "cfa = ConfirmatoryFactorAnalyzer(model_spec)\n",
    "cfa.fit(subset_df.values)"
   ]
  },
  {
   "cell_type": "code",
   "execution_count": 9,
   "metadata": {
    "scrolled": true
   },
   "outputs": [
    {
     "data": {
      "text/plain": [
       "array([[0.85472061, 0.        , 0.        , 0.        , 0.        ],\n",
       "       [0.92600351, 0.        , 0.        , 0.        , 0.        ],\n",
       "       [0.824874  , 0.        , 0.        , 0.        , 0.        ],\n",
       "       [0.90207912, 0.        , 0.        , 0.        , 0.        ],\n",
       "       [0.94320951, 0.        , 0.        , 0.        , 0.        ],\n",
       "       [0.7165997 , 0.        , 0.        , 0.        , 0.        ],\n",
       "       [1.01336003, 0.        , 0.        , 0.        , 0.        ],\n",
       "       [0.71091376, 0.        , 0.        , 0.        , 0.        ],\n",
       "       [0.81598097, 0.        , 0.        , 0.        , 0.        ],\n",
       "       [0.89664952, 0.        , 0.        , 0.        , 0.        ],\n",
       "       [0.        , 0.90646138, 0.        , 0.        , 0.        ],\n",
       "       [0.        , 0.65891404, 0.        , 0.        , 0.        ],\n",
       "       [0.        , 0.66207573, 0.        , 0.        , 0.        ],\n",
       "       [0.        , 0.51383007, 0.        , 0.        , 0.        ],\n",
       "       [0.        , 0.64670994, 0.        , 0.        , 0.        ],\n",
       "       [0.        , 0.95332283, 0.        , 0.        , 0.        ],\n",
       "       [0.        , 0.94717458, 0.        , 0.        , 0.        ],\n",
       "       [0.        , 1.02535167, 0.        , 0.        , 0.        ],\n",
       "       [0.        , 0.85967537, 0.        , 0.        , 0.        ],\n",
       "       [0.        , 0.85437608, 0.        , 0.        , 0.        ],\n",
       "       [0.        , 0.        , 0.66310139, 0.        , 0.        ],\n",
       "       [0.        , 0.        , 0.67368778, 0.        , 0.        ],\n",
       "       [0.        , 0.        , 0.44485873, 0.        , 0.        ],\n",
       "       [0.        , 0.        , 0.83476526, 0.        , 0.        ],\n",
       "       [0.        , 0.        , 0.79871231, 0.        , 0.        ],\n",
       "       [0.        , 0.        , 0.65975447, 0.        , 0.        ],\n",
       "       [0.        , 0.        , 0.76888551, 0.        , 0.        ],\n",
       "       [0.        , 0.        , 0.61306432, 0.        , 0.        ],\n",
       "       [0.        , 0.        , 0.80794398, 0.        , 0.        ],\n",
       "       [0.        , 0.        , 0.47542693, 0.        , 0.        ],\n",
       "       [0.        , 0.        , 0.        , 0.69975891, 0.        ],\n",
       "       [0.        , 0.        , 0.        , 0.81101928, 0.        ],\n",
       "       [0.        , 0.        , 0.        , 0.36543917, 0.        ],\n",
       "       [0.        , 0.        , 0.        , 0.80181447, 0.        ],\n",
       "       [0.        , 0.        , 0.        , 0.78411807, 0.        ],\n",
       "       [0.        , 0.        , 0.        , 0.93371655, 0.        ],\n",
       "       [0.        , 0.        , 0.        , 0.54773611, 0.        ],\n",
       "       [0.        , 0.        , 0.        , 0.60479992, 0.        ],\n",
       "       [0.        , 0.        , 0.        , 0.72920465, 0.        ],\n",
       "       [0.        , 0.        , 0.        , 0.41782885, 0.        ],\n",
       "       [0.        , 0.        , 0.        , 0.        , 0.56904628],\n",
       "       [0.        , 0.        , 0.        , 0.        , 0.61165449],\n",
       "       [0.        , 0.        , 0.        , 0.        , 0.57000914],\n",
       "       [0.        , 0.        , 0.        , 0.        , 0.53878088],\n",
       "       [0.        , 0.        , 0.        , 0.        , 0.5898678 ],\n",
       "       [0.        , 0.        , 0.        , 0.        , 0.59155759],\n",
       "       [0.        , 0.        , 0.        , 0.        , 0.42207135],\n",
       "       [0.        , 0.        , 0.        , 0.        , 0.58315222],\n",
       "       [0.        , 0.        , 0.        , 0.        , 0.31013798],\n",
       "       [0.        , 0.        , 0.        , 0.        , 0.70599594]])"
      ]
     },
     "execution_count": 9,
     "metadata": {},
     "output_type": "execute_result"
    }
   ],
   "source": [
    "cfa.loadings_"
   ]
  },
  {
   "cell_type": "code",
   "execution_count": 10,
   "metadata": {},
   "outputs": [
    {
     "data": {
      "text/plain": [
       "array([[1.        , 0.23653951, 0.36029776, 0.09568473, 0.22620274],\n",
       "       [0.23653951, 1.        , 0.01264952, 0.30831719, 0.11609876],\n",
       "       [0.36029776, 0.01264952, 1.        , 0.12359573, 0.12756619],\n",
       "       [0.09568473, 0.30831719, 0.12359573, 1.        , 0.05360468],\n",
       "       [0.22620274, 0.11609876, 0.12756619, 0.05360468, 1.        ]])"
      ]
     },
     "execution_count": 10,
     "metadata": {},
     "output_type": "execute_result"
    }
   ],
   "source": [
    "cfa.factor_varcovs_"
   ]
  },
  {
   "cell_type": "code",
   "execution_count": 13,
   "metadata": {},
   "outputs": [
    {
     "data": {
      "text/plain": [
       "array([[ 1.96045383,  0.92423287,  0.14677389, -0.18466227,  1.10637443],\n",
       "       [-0.97278053,  1.04620543,  0.89743043,  0.54172898, -0.88109213],\n",
       "       [-0.54573387,  0.6830371 ,  0.54153986,  0.31858652,  0.26465504],\n",
       "       ...,\n",
       "       [ 0.39087472, -1.51669854,  0.08152021, -0.7115184 ,  0.97441546],\n",
       "       [-0.88164331, -0.32756937, -0.08407023,  0.68810262, -0.11418652],\n",
       "       [ 1.08051384,  0.25372248,  0.40749745, -0.70479084,  1.23393173]])"
      ]
     },
     "execution_count": 13,
     "metadata": {},
     "output_type": "execute_result"
    }
   ],
   "source": [
    "cfa.transform(subset_df.values)"
   ]
  },
  {
   "cell_type": "code",
   "execution_count": null,
   "metadata": {},
   "outputs": [],
   "source": []
  }
 ],
 "metadata": {
  "kernelspec": {
   "display_name": "big_5_personality_test",
   "language": "python",
   "name": "big_5_personality_test"
  },
  "language_info": {
   "codemirror_mode": {
    "name": "ipython",
    "version": 3
   },
   "file_extension": ".py",
   "mimetype": "text/x-python",
   "name": "python",
   "nbconvert_exporter": "python",
   "pygments_lexer": "ipython3",
   "version": "3.8.1"
  }
 },
 "nbformat": 4,
 "nbformat_minor": 4
}
